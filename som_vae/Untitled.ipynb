{
 "cells": [
  {
   "cell_type": "code",
   "execution_count": 2,
   "metadata": {},
   "outputs": [
    {
     "name": "stdout",
     "output_type": "stream",
     "text": [
      "WARNING:tensorflow:From /home/liujing/anaconda3/envs/yinpengyu/lib/python3.6/site-packages/tensorflow/contrib/learn/python/learn/datasets/base.py:198: retry (from tensorflow.contrib.learn.python.learn.datasets.base) is deprecated and will be removed in a future version.\n",
      "Instructions for updating:\n",
      "Use the retry module or similar alternatives.\n",
      "WARNING:tensorflow:From <ipython-input-2-01f6c20c0679>:110: read_data_sets (from tensorflow.contrib.learn.python.learn.datasets.mnist) is deprecated and will be removed in a future version.\n",
      "Instructions for updating:\n",
      "Please use alternatives such as official/mnist/dataset.py from tensorflow/models.\n",
      "WARNING:tensorflow:From /home/liujing/anaconda3/envs/yinpengyu/lib/python3.6/site-packages/tensorflow/contrib/learn/python/learn/datasets/mnist.py:260: maybe_download (from tensorflow.contrib.learn.python.learn.datasets.base) is deprecated and will be removed in a future version.\n",
      "Instructions for updating:\n",
      "Please write your own downloading logic.\n",
      "WARNING:tensorflow:From /home/liujing/anaconda3/envs/yinpengyu/lib/python3.6/site-packages/tensorflow/contrib/learn/python/learn/datasets/mnist.py:262: extract_images (from tensorflow.contrib.learn.python.learn.datasets.mnist) is deprecated and will be removed in a future version.\n",
      "Instructions for updating:\n",
      "Please use tf.data to implement this functionality.\n",
      "Extracting ../data/MNIST_data/train-images-idx3-ubyte.gz\n",
      "WARNING:tensorflow:From /home/liujing/anaconda3/envs/yinpengyu/lib/python3.6/site-packages/tensorflow/contrib/learn/python/learn/datasets/mnist.py:267: extract_labels (from tensorflow.contrib.learn.python.learn.datasets.mnist) is deprecated and will be removed in a future version.\n",
      "Instructions for updating:\n",
      "Please use tf.data to implement this functionality.\n",
      "Extracting ../data/MNIST_data/train-labels-idx1-ubyte.gz\n",
      "Extracting ../data/MNIST_data/t10k-images-idx3-ubyte.gz\n",
      "Extracting ../data/MNIST_data/t10k-labels-idx1-ubyte.gz\n",
      "WARNING:tensorflow:From /home/liujing/anaconda3/envs/yinpengyu/lib/python3.6/site-packages/tensorflow/contrib/learn/python/learn/datasets/mnist.py:290: DataSet.__init__ (from tensorflow.contrib.learn.python.learn.datasets.mnist) is deprecated and will be removed in a future version.\n",
      "Instructions for updating:\n",
      "Please use alternatives such as official/mnist/dataset.py from tensorflow/models.\n"
     ]
    }
   ],
   "source": [
    "\"\"\"\n",
    "Script to train the SOM-VAE model as described in https://arxiv.org/abs/1806.02199\n",
    "Copyright (c) 2018\n",
    "Author: Vincent Fortuin\n",
    "Institution: Biomedical Informatics group, ETH Zurich\n",
    "License: MIT License\n",
    "\n",
    "If you want to optimize the hyperparameters using labwatch, you have to install labwatch and SMAC\n",
    "and comment in the commented out lines.\n",
    "\"\"\"\n",
    "\n",
    "import os\n",
    "import uuid\n",
    "import shutil\n",
    "from glob import glob\n",
    "from datetime import date\n",
    "\n",
    "import numpy as np\n",
    "import tensorflow as tf\n",
    "from tensorflow.examples.tutorials.mnist import input_data\n",
    "import pandas as pd\n",
    "from sklearn.metrics import mean_squared_error\n",
    "from tqdm import tqdm, trange\n",
    "import sacred\n",
    "from sacred.stflow import LogFileWriter\n",
    "\n",
    "# from labwatch.assistant import LabAssistant\n",
    "# from labwatch.optimizers.random_search import RandomSearch\n",
    "# from labwatch.optimizers.smac_wrapper import SMAC\n",
    "# from labwatch.optimizers.bayesian_optimization import BayesianOptimization\n",
    "# from labwatch import hyperparameters as hyper\n",
    "\n",
    "from somvae_model import SOMVAE\n",
    "from utils import *\n",
    "\n",
    "ex = sacred.Experiment(\"hyperopt\",interactive=True)\n",
    "# ex = sacred.Experiment('jupyter_ex', interactive=True)\n",
    "ex.observers.append(sacred.observers.FileStorageObserver.create(\"../sacred_runs\"))\n",
    "ex.captured_out_filter = sacred.utils.apply_backspaces_and_linefeeds\n",
    "\n",
    "# ex.observers.append(sacred.observers.MongoObserver.create(db_name=\"somvae_hyperopt\"))\n",
    "\n",
    "# assistant = LabAssistant(ex, \"somvae_hyperopt\", optimizer=SMAC, url=\"localhost:{}\".format(db_port))\n",
    "\n",
    "\n",
    "@ex.config\n",
    "def ex_config():\n",
    "    \"\"\"Sacred configuration for the experiment.\n",
    "    \n",
    "    Params:\n",
    "        num_epochs (int): Number of training epochs.\n",
    "        patience (int): Patience for the early stopping.\n",
    "        batch_size (int): Batch size for the training.\n",
    "        latent_dim (int): Dimensionality of the SOM-VAE's latent space.\n",
    "        som_dim (list): Dimensionality of the self-organizing map.\n",
    "        learning_rate (float): Learning rate for the optimization.\n",
    "        alpha (float): Weight for the commitment loss.\n",
    "        beta (float): Weight for the SOM loss.\n",
    "        gamma (float): Weight for the transition probability loss.\n",
    "        tau (float): Weight for the smoothness loss.\n",
    "        decay_factor (float): Factor for the learning rate decay.\n",
    "        name (string): Name of the experiment.\n",
    "        ex_name (string): Unique name of this particular run.\n",
    "        logdir (path): Directory for the experiment logs.\n",
    "        modelpath (path): Path for the model checkpoints.\n",
    "        interactive (bool): Indicator if there should be an interactive progress bar for the training.\n",
    "        data_set (string): Data set for the training.\n",
    "        save_model (bool): Indicator if the model checkpoints should be kept after training and evaluation.\n",
    "        time_series (bool): Indicator if the model should be trained on linearly interpolated\n",
    "            MNIST time series.\n",
    "        mnist (bool): Indicator if the model is trained on MNIST-like data.\n",
    "    \"\"\"\n",
    "    num_epochs = 20\n",
    "    patience = 100\n",
    "    batch_size = 32\n",
    "    latent_dim = 64\n",
    "    som_dim = [8,8]\n",
    "    learning_rate = 0.0005\n",
    "    alpha = 1.0\n",
    "    beta = 0.9\n",
    "    gamma = 1.8\n",
    "    tau = 1.4\n",
    "    decay_factor = 0.9\n",
    "    name = ex.get_experiment_info()[\"name\"]\n",
    "    ex_name = \"{}_{}_{}-{}_{}_{}\".format(name, latent_dim, som_dim[0], som_dim[1], str(date.today()), uuid.uuid4().hex[:5])\n",
    "    logdir = \"../logs/{}\".format(ex_name)\n",
    "    modelpath = \"../models/{}/{}.ckpt\".format(ex_name, ex_name)\n",
    "    interactive = True\n",
    "    data_set = \"MNIST_data\"\n",
    "    save_model = False\n",
    "    time_series = True\n",
    "    mnist = True\n",
    "\n",
    "\n",
    "# @assistant.search_space\n",
    "# def search_space():\n",
    "#     num_epochs = 20\n",
    "#     patience = 20\n",
    "#     batch_size = 32\n",
    "#     latent_dim = hyper.UniformInt(lower=64, upper=256, log_scale=True)\n",
    "#     som_dim = [8,8]\n",
    "#     learning_rate = hyper.UniformFloat(lower=0.0001, upper=0.01, log_scale=True)\n",
    "#     alpha = hyper.UniformFloat(lower=0., upper=2.)\n",
    "#     beta = hyper.UniformFloat(lower=0., upper=2.)\n",
    "#     gamma = hyper.UniformFloat(lower=0., upper=2.)\n",
    "#     tau = hyper.UniformFloat(lower=0., upper=2.)\n",
    "#     decay_factor = hyper.UniformFloat(lower=0.8, upper=1.)\n",
    "#     interactive = False\n",
    "\n",
    "mnist = input_data.read_data_sets(f\"../data/{ex_config()['data_set']}\")\n",
    "\n",
    "data_train = np.reshape(mnist.train.images, [-1,28,28,1])\n",
    "labels_train = mnist.train.labels\n",
    "data_val = data_train[45000:]\n",
    "labels_val = labels_train[45000:]\n",
    "data_train = data_train[:45000]\n",
    "labels_train = data_train[:45000]\n",
    "\n",
    "\n",
    "@ex.capture\n",
    "def get_data_generator(time_series):\n",
    "    \"\"\"Creates a data generator for the training.\n",
    "    \n",
    "    Args:\n",
    "        time_series (bool): Indicates whether or not we want interpolated MNIST time series or just\n",
    "            normal MNIST batches.\n",
    "    \n",
    "    Returns:\n",
    "        generator: Data generator for the batches.\"\"\"\n",
    "\n",
    "    def batch_generator(mode=\"train\", batch_size=100):\n",
    "        \"\"\"Generator for the data batches.\n",
    "        \n",
    "        Args:\n",
    "            mode (str): Mode in ['train', 'val'] that decides which data set the generator\n",
    "                samples from (default: 'train').\n",
    "            batch_size (int): The size of the batches (default: 100).\n",
    "            \n",
    "        Yields:\n",
    "            np.array: Data batch.\n",
    "        \"\"\"\n",
    "        assert mode in [\"train\", \"val\"], \"The mode should be in {train, val}.\"\n",
    "        if mode==\"train\":\n",
    "            images = data_train.copy()\n",
    "            labels = labels_train.copy()\n",
    "        elif mode==\"val\":\n",
    "            images = data_val.copy()\n",
    "            labels = labels_val.copy()\n",
    "        \n",
    "        while True:\n",
    "            indices = np.random.permutation(np.arange(len(images)))\n",
    "            images = images[indices]\n",
    "            labels = labels[indices]\n",
    "\n",
    "            if time_series:\n",
    "                for i, image in enumerate(images):\n",
    "                    start_image = image\n",
    "                    end_image = images[np.random.choice(np.where(labels == (labels[i] + 1) % 10)[0])]\n",
    "                    interpolation = interpolate_arrays(start_image, end_image, batch_size)\n",
    "                    yield interpolation + np.random.normal(scale=0.01, size=interpolation.shape)\n",
    "            else:\n",
    "                for i in range(len(images)//batch_size):\n",
    "                    yield images[i*batch_size:(i+1)*batch_size]\n",
    "\n",
    "    return batch_generator\n",
    "\n",
    "\n",
    "@ex.capture\n",
    "def train_model(model, x, lr_val, num_epochs, patience, batch_size, logdir,\n",
    "        modelpath, learning_rate, interactive, generator):\n",
    "    \"\"\"Trains the SOM-VAE model.\n",
    "    \n",
    "    Args:\n",
    "        model (SOM-VAE): SOM-VAE model to train.\n",
    "        x (tf.Tensor): Input tensor or placeholder.\n",
    "        lr_val (tf.Tensor): Placeholder for the learning rate value.\n",
    "        num_epochs (int): Number of epochs to train.\n",
    "        patience (int): Patience parameter for the early stopping.\n",
    "        batch_size (int): Batch size for the training generator.\n",
    "        logdir (path): Directory for saving the logs.\n",
    "        modelpath (path): Path for saving the model checkpoints.\n",
    "        learning_rate (float): Learning rate for the optimization.\n",
    "        interactive (bool): Indicator if we want to have an interactive\n",
    "            progress bar for training.\n",
    "        generator (generator): Generator for the data batches.\n",
    "    \"\"\"\n",
    "    train_gen = generator(\"train\", batch_size)\n",
    "    val_gen = generator(\"val\", batch_size)\n",
    "\n",
    "    num_batches = len(data_train)//batch_size\n",
    "\n",
    "    saver = tf.train.Saver(keep_checkpoint_every_n_hours=2.)\n",
    "    summaries = tf.summary.merge_all()\n",
    "\n",
    "    with tf.Session() as sess:\n",
    "        sess.run(tf.global_variables_initializer())\n",
    "        patience_count = 0\n",
    "        test_losses = []\n",
    "        with LogFileWriter(ex):\n",
    "            train_writer = tf.summary.FileWriter(logdir+\"/train\", sess.graph)\n",
    "            test_writer = tf.summary.FileWriter(logdir+\"/test\", sess.graph)\n",
    "        print(\"Training...\")\n",
    "        train_step_SOMVAE, train_step_prob = model.optimize\n",
    "        try:\n",
    "            if interactive:\n",
    "                pbar = tqdm(total=num_epochs*(num_batches)) \n",
    "            for epoch in range(num_epochs):\n",
    "                batch_val = next(val_gen)\n",
    "                test_loss, summary = sess.run([model.loss, summaries], feed_dict={x: batch_val})\n",
    "                test_losses.append(test_loss)\n",
    "                test_writer.add_summary(summary, tf.train.global_step(sess, model.global_step))\n",
    "                if test_losses[-1] == min(test_losses):\n",
    "                    saver.save(sess, modelpath, global_step=epoch)\n",
    "                    patience_count = 0\n",
    "                else:\n",
    "                    patience_count += 1\n",
    "                if patience_count >= patience:\n",
    "                    break\n",
    "                for i in range(num_batches):\n",
    "                    batch_data = next(train_gen)\n",
    "                    if i%100 == 0:\n",
    "                        train_loss, summary = sess.run([model.loss, summaries], feed_dict={x: batch_data})\n",
    "                        train_writer.add_summary(summary, tf.train.global_step(sess, model.global_step))\n",
    "                    train_step_SOMVAE.run(feed_dict={x: batch_data, lr_val:learning_rate})\n",
    "                    train_step_prob.run(feed_dict={x: batch_data, lr_val:learning_rate*100})\n",
    "                    if interactive:\n",
    "                        pbar.set_postfix(epoch=epoch, train_loss=train_loss, test_loss=test_loss, refresh=False)\n",
    "                        pbar.update(1)\n",
    "\n",
    "        except KeyboardInterrupt:\n",
    "            pass\n",
    "        finally:\n",
    "            saver.save(sess, modelpath)\n",
    "            if interactive:\n",
    "                pbar.close()\n",
    "\n",
    "\n",
    "\n",
    "@ex.capture\n",
    "def evaluate_model(model, x, modelpath, batch_size):\n",
    "    \"\"\"Evaluates the performance of the trained model in terms of normalized\n",
    "    mutual information, purity and mean squared error.\n",
    "    \n",
    "    Args:\n",
    "        model (SOM-VAE): Trained SOM-VAE model to evaluate.\n",
    "        x (tf.Tensor): Input tensor or placeholder.\n",
    "        modelpath (path): Path from which to restore the model.\n",
    "        batch_size (int): Batch size for the evaluation.\n",
    "        \n",
    "    Returns:\n",
    "        dict: Dictionary of evaluation results (NMI, Purity, MSE).\n",
    "    \"\"\"\n",
    "    saver = tf.train.Saver(keep_checkpoint_every_n_hours=2.)\n",
    "\n",
    "    num_batches = len(data_val)//batch_size\n",
    "\n",
    "    with tf.Session() as sess:\n",
    "        sess.run(tf.global_variables_initializer())\n",
    "        saver.restore(sess, modelpath)\n",
    "\n",
    "        test_k_all = []\n",
    "        test_rec_all = []\n",
    "        test_mse_all = []\n",
    "        print(\"Evaluation...\")\n",
    "        for i in range(num_batches):\n",
    "            batch_data = data_val[i*batch_size:(i+1)*batch_size]\n",
    "            test_k_all.extend(sess.run(model.k, feed_dict={x: batch_data}))\n",
    "            test_rec = sess.run(model.reconstruction_q, feed_dict={x: batch_data})\n",
    "            test_rec_all.extend(test_rec)\n",
    "            test_mse_all.append(mean_squared_error(test_rec.flatten(), batch_data.flatten()))\n",
    "\n",
    "        test_nmi = compute_NMI(test_k_all, labels_val[:len(test_k_all)])\n",
    "        test_purity = compute_purity(test_k_all, labels_val[:len(test_k_all)])\n",
    "        test_mse = np.mean(test_mse_all)\n",
    "\n",
    "    results = {}\n",
    "    results[\"NMI\"] = test_nmi\n",
    "    results[\"Purity\"] = test_purity\n",
    "    results[\"MSE\"] = test_mse\n",
    "#    results[\"optimization_target\"] = 1 - test_nmi\n",
    "\n",
    "    return results\n",
    " \n",
    "\n",
    "@ex.main\n",
    "def main(latent_dim, som_dim, learning_rate, decay_factor, alpha, beta, gamma, tau, modelpath, save_model, mnist):\n",
    "    \"\"\"Main method to build a model, train it and evaluate it.\n",
    "    \n",
    "    Args:\n",
    "        latent_dim (int): Dimensionality of the SOM-VAE's latent space.\n",
    "        som_dim (list): Dimensionality of the SOM.\n",
    "        learning_rate (float): Learning rate for the training.\n",
    "        decay_factor (float): Factor for the learning rate decay.\n",
    "        alpha (float): Weight for the commitment loss.\n",
    "        beta (float): Weight for the SOM loss.\n",
    "        gamma (float): Weight for the transition probability loss.\n",
    "        tau (float): Weight for the smoothness loss.\n",
    "        modelpath (path): Path for the model checkpoints.\n",
    "        save_model (bool): Indicates if the model should be saved after training and evaluation.\n",
    "        \n",
    "    Returns:\n",
    "        dict: Results of the evaluation (NMI, Purity, MSE).\n",
    "    \"\"\"\n",
    "    # Dimensions for MNIST-like data\n",
    "    input_length = 28\n",
    "    input_channels = 28\n",
    "    x = tf.placeholder(tf.float32, shape=[None, 28, 28, 1])\n",
    "\n",
    "    data_generator = get_data_generator()\n",
    "\n",
    "    lr_val = tf.placeholder_with_default(learning_rate, [])\n",
    "\n",
    "    model = SOMVAE(inputs=x, latent_dim=latent_dim, som_dim=som_dim, learning_rate=lr_val, decay_factor=decay_factor,\n",
    "            input_length=input_length, input_channels=input_channels, alpha=alpha, beta=beta, gamma=gamma,\n",
    "            tau=tau, mnist=mnist)\n",
    "\n",
    "    train_model(model, x, lr_val, generator=data_generator)\n",
    "\n",
    "    result = evaluate_model(model, x)\n",
    "\n",
    "    if not save_model:\n",
    "        shutil.rmtree(os.path.dirname(modelpath))\n",
    "\n",
    "    return result\n",
    "\n"
   ]
  },
  {
   "cell_type": "code",
   "execution_count": 3,
   "metadata": {
    "scrolled": true
   },
   "outputs": [
    {
     "name": "stdout",
     "output_type": "stream",
     "text": [
      "INFO:tensorflow:Restoring parameters from ../models/hyperopt_64_8-8_2019-03-14_28585/hyperopt_64_8-8_2019-03-14_28585.ckpt\n",
      "Evaluation...\n"
     ]
    }
   ],
   "source": [
    "num_epochs = 20\n",
    "patience = 100\n",
    "batch_size = 32\n",
    "latent_dim = 64\n",
    "som_dim = [8,8]\n",
    "learning_rate = 0.0005\n",
    "alpha = 1.0\n",
    "beta = 0.9\n",
    "gamma = 1.8\n",
    "tau = 1.4\n",
    "decay_factor = 0.9\n",
    "interactive = True\n",
    "data_set = \"MNIST_data\"\n",
    "save_model = False\n",
    "time_series = True\n",
    "mnist = True\n",
    "input_length = 28\n",
    "input_channels = 28\n",
    "x = tf.placeholder(tf.float32, shape=[None, 28, 28, 1])\n",
    "modelpath = \"../models/hyperopt_64_8-8_2019-03-14_28585/hyperopt_64_8-8_2019-03-14_28585.ckpt\"\n",
    "batch_size = 32\n",
    "num_batches = len(data_val)//batch_size\n",
    "lr_val = tf.placeholder_with_default(learning_rate, [])\n",
    "\n",
    "model = SOMVAE(inputs=x, latent_dim=latent_dim, som_dim=som_dim, learning_rate=lr_val, decay_factor=decay_factor,\n",
    "        input_length=input_length, input_channels=input_channels, alpha=alpha, beta=beta, gamma=gamma,\n",
    "        tau=tau, mnist=mnist)\n",
    "\n",
    "with tf.Session() as sess:\n",
    "    sess.run(tf.global_variables_initializer())\n",
    "    saver = tf.train.Saver()\n",
    "    saver.restore(sess, modelpath)\n",
    "\n",
    "    test_k_all = []\n",
    "    test_rec_all = []\n",
    "    test_mse_all = []\n",
    "    print(\"Evaluation...\")\n",
    "    for i in range(num_batches):\n",
    "        batch_data = data_val[i*batch_size:(i+1)*batch_size]\n",
    "        test_k_all.extend(sess.run(model.k, feed_dict={x: batch_data}))\n",
    "        test_rec = sess.run(model.reconstruction_q, feed_dict={x: batch_data})\n",
    "        test_rec_all.extend(test_rec)\n",
    "        test_mse_all.append(mean_squared_error(test_rec.flatten(), batch_data.flatten()))\n",
    "\n",
    "    test_nmi = compute_NMI(test_k_all, labels_val[:len(test_k_all)])\n",
    "    test_purity = compute_purity(test_k_all, labels_val[:len(test_k_all)])\n",
    "    test_mse = np.mean(test_mse_all)\n",
    "\n",
    "results = {}\n",
    "results[\"NMI\"] = test_nmi\n",
    "results[\"Purity\"] = test_purity\n",
    "results[\"MSE\"] = test_mse"
   ]
  },
  {
   "cell_type": "code",
   "execution_count": 4,
   "metadata": {},
   "outputs": [
    {
     "data": {
      "text/plain": [
       "{'MSE': 0.046796296, 'NMI': 0.5469336692124388, 'Purity': 0.6831931089743589}"
      ]
     },
     "execution_count": 4,
     "metadata": {},
     "output_type": "execute_result"
    }
   ],
   "source": [
    "results"
   ]
  },
  {
   "cell_type": "code",
   "execution_count": 5,
   "metadata": {
    "scrolled": false
   },
   "outputs": [
    {
     "data": {
      "text/plain": [
       "(28, 28, 1)"
      ]
     },
     "execution_count": 5,
     "metadata": {},
     "output_type": "execute_result"
    }
   ],
   "source": [
    "batch_data[1].shape"
   ]
  },
  {
   "cell_type": "code",
   "execution_count": 6,
   "metadata": {},
   "outputs": [
    {
     "data": {
      "text/plain": [
       "<tf.Tensor 'reconstruction_q/decoder/Sigmoid:0' shape=(?, 28, 28, 1) dtype=float32>"
      ]
     },
     "execution_count": 6,
     "metadata": {},
     "output_type": "execute_result"
    }
   ],
   "source": [
    "model.reconstruction_q"
   ]
  },
  {
   "cell_type": "code",
   "execution_count": 7,
   "metadata": {},
   "outputs": [
    {
     "data": {
      "image/png": "[encoded data removed]",
      "text/plain": [
       "<Figure size 432x288 with 1 Axes>"
      ]
     },
     "metadata": {},
     "output_type": "display_data"
    }
   ],
   "source": [
    "import matplotlib.pyplot as plt\n",
    "plt.imshow(test_rec[0,:,:,0],\"gray\")\n",
    "plt.show()"
   ]
  },
  {
   "cell_type": "code",
   "execution_count": 8,
   "metadata": {},
   "outputs": [
    {
     "data": {
      "image/png": "[encoded data removed]",
      "text/plain": [
       "<Figure size 576x1152 with 24 Axes>"
      ]
     },
     "metadata": {},
     "output_type": "display_data"
    }
   ],
   "source": [
    "def sample_stack(stack, rows=6, cols=4):\n",
    "    fig,ax = plt.subplots(rows,cols,figsize=[8,16])\n",
    "    for i in range(rows*cols):\n",
    "        ax[int(i/cols),int(i % cols)].set_title('slice %d' % i)\n",
    "        ax[int(i/cols),int(i % cols)].imshow(stack[i,:,:,0],cmap='gray')\n",
    "        ax[int(i/cols),int(i % cols)].axis('off')\n",
    "    plt.show()\n",
    "\n",
    "sample_stack(test_rec)"
   ]
  },
  {
   "cell_type": "code",
   "execution_count": 9,
   "metadata": {},
   "outputs": [
    {
     "data": {
      "image/png": "[encoded data removed]",
      "text/plain": [
       "<Figure size 576x1152 with 24 Axes>"
      ]
     },
     "metadata": {},
     "output_type": "display_data"
    }
   ],
   "source": [
    "sample_stack(batch_data)"
   ]
  },
  {
   "cell_type": "code",
   "execution_count": 10,
   "metadata": {},
   "outputs": [
    {
     "data": {
      "text/plain": [
       "array([0.00118785, 0.00048938, 0.00029972, ..., 0.00080481, 0.00120247,\n",
       "       0.00493401], dtype=float32)"
      ]
     },
     "execution_count": 10,
     "metadata": {},
     "output_type": "execute_result"
    }
   ],
   "source": [
    "test_rec.flatten()"
   ]
  },
  {
   "cell_type": "code",
   "execution_count": 12,
   "metadata": {},
   "outputs": [
    {
     "name": "stdout",
     "output_type": "stream",
     "text": [
      "Extracting ../data/MNIST_data/train-images-idx3-ubyte.gz\n",
      "Extracting ../data/MNIST_data/train-labels-idx1-ubyte.gz\n",
      "Extracting ../data/MNIST_data/t10k-images-idx3-ubyte.gz\n",
      "Extracting ../data/MNIST_data/t10k-labels-idx1-ubyte.gz\n"
     ]
    }
   ],
   "source": [
    "mnist = input_data.read_data_sets(f\"../data/{ex_config()['data_set']}\")\n",
    "\n",
    "data_train = np.reshape(mnist.train.images, [-1,28,28,1])\n",
    "labels_train = mnist.train.labels\n",
    "data_val = data_train[45000:]\n",
    "labels_val = labels_train[45000:]\n",
    "data_train = data_train[:45000]\n",
    "labels_train = data_train[:45000]"
   ]
  },
  {
   "cell_type": "code",
   "execution_count": 16,
   "metadata": {},
   "outputs": [
    {
     "data": {
      "text/plain": [
       "(55000, 784)"
      ]
     },
     "execution_count": 16,
     "metadata": {},
     "output_type": "execute_result"
    }
   ],
   "source": [
    "mnist.train.images.shape"
   ]
  },
  {
   "cell_type": "code",
   "execution_count": 24,
   "metadata": {},
   "outputs": [],
   "source": [
    "datatest = np.reshape(mnist.train.images, [55000,28,28,1])"
   ]
  },
  {
   "cell_type": "code",
   "execution_count": 29,
   "metadata": {},
   "outputs": [
    {
     "data": {
      "text/plain": [
       "(55000, 28, 28, 1)"
      ]
     },
     "execution_count": 29,
     "metadata": {},
     "output_type": "execute_result"
    }
   ],
   "source": [
    "datatest.shape"
   ]
  },
  {
   "cell_type": "code",
   "execution_count": 26,
   "metadata": {},
   "outputs": [
    {
     "data": {
      "text/plain": [
       "(45000, 28, 28, 1)"
      ]
     },
     "execution_count": 26,
     "metadata": {},
     "output_type": "execute_result"
    }
   ],
   "source": [
    "data_train.shape"
   ]
  },
  {
   "cell_type": "code",
   "execution_count": 27,
   "metadata": {},
   "outputs": [
    {
     "data": {
      "text/plain": [
       "(45000, 28, 28, 1)"
      ]
     },
     "execution_count": 27,
     "metadata": {},
     "output_type": "execute_result"
    }
   ],
   "source": [
    "labels_train.shape"
   ]
  },
  {
   "cell_type": "code",
   "execution_count": 28,
   "metadata": {},
   "outputs": [
    {
     "data": {
      "text/plain": [
       "(10000, 28, 28, 1)"
      ]
     },
     "execution_count": 28,
     "metadata": {},
     "output_type": "execute_result"
    }
   ],
   "source": [
    "data_val.shape"
   ]
  },
  {
   "cell_type": "code",
   "execution_count": null,
   "metadata": {
    "collapsed": true
   },
   "outputs": [],
   "source": []
  }
 ],
 "metadata": {
  "kernelspec": {
   "display_name": "Python [conda env:yinpengyu]",
   "language": "python",
   "name": "conda-env-yinpengyu-py"
  },
  "language_info": {
   "codemirror_mode": {
    "name": "ipython",
    "version": 3
   },
   "file_extension": ".py",
   "mimetype": "text/x-python",
   "name": "python",
   "nbconvert_exporter": "python",
   "pygments_lexer": "ipython3",
   "version": "3.6.8"
  }
 },
 "nbformat": 4,
 "nbformat_minor": 2
}
